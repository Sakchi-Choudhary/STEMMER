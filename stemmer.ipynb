{
  "nbformat": 4,
  "nbformat_minor": 0,
  "metadata": {
    "colab": {
      "name": "stemmer.ipynb",
      "provenance": [],
      "collapsed_sections": []
    },
    "kernelspec": {
      "name": "python3",
      "display_name": "Python 3"
    }
  },
  "cells": [
    {
      "cell_type": "code",
      "metadata": {
        "id": "VtisGL62m8hi"
      },
      "source": [
        "\n",
        "# importing nltk library for stemming\n",
        "import nltk"
      ],
      "execution_count": null,
      "outputs": []
    },
    {
      "cell_type": "code",
      "metadata": {
        "id": "FyA30ILOm1Wy"
      },
      "source": [
        "from nltk.stem import PorterStemmer\n",
        "#from nltk.tokenize import sent_tokenize, word_tokenize\n",
        "\n",
        "ps = PorterStemmer()\n"
      ],
      "execution_count": null,
      "outputs": []
    },
    {
      "cell_type": "code",
      "metadata": {
        "id": "Uu-Idi21omhW"
      },
      "source": [
        "example_words = [\"smiling\",\"writing\",\"eating\",\"singing\",\"dancing\", \"calculating\"]"
      ],
      "execution_count": null,
      "outputs": []
    },
    {
      "cell_type": "code",
      "metadata": {
        "id": "eT-lvNm9osQ4",
        "outputId": "12b72c47-7d18-44ce-ca14-25ee67daa10c",
        "colab": {
          "base_uri": "https://localhost:8080/",
          "height": 126
        }
      },
      "source": [
        "for w in example_words:\n",
        "    #print(w)\n",
        "    stem1=ps.stem(w)\n",
        "    print(stem1)"
      ],
      "execution_count": null,
      "outputs": [
        {
          "output_type": "stream",
          "text": [
            "smile\n",
            "write\n",
            "eat\n",
            "sing\n",
            "danc\n",
            "calcul\n"
          ],
          "name": "stdout"
        }
      ]
    },
    {
      "cell_type": "code",
      "metadata": {
        "id": "RlZ_sqYuoum2",
        "outputId": "ebc09f81-96f7-44d6-f3af-933ed98a7117",
        "colab": {
          "base_uri": "https://localhost:8080/",
          "height": 126
        }
      },
      "source": [
        "# importing modules \n",
        "from nltk.stem import PorterStemmer \n",
        "#nltk.download('punkt')\n",
        "from nltk.tokenize import word_tokenize \n",
        "\n",
        "\n",
        "ps = PorterStemmer() \n",
        "sentence = \"Programers program with programing languages\"\n",
        "words = word_tokenize(sentence) \n",
        "print(words)\n",
        "for w in words: \n",
        "\tprint( ps.stem(w))\n",
        " \n"
      ],
      "execution_count": null,
      "outputs": [
        {
          "output_type": "stream",
          "text": [
            "['Programers', 'program', 'with', 'programing', 'languages']\n",
            "program\n",
            "program\n",
            "with\n",
            "program\n",
            "languag\n"
          ],
          "name": "stdout"
        }
      ]
    },
    {
      "cell_type": "code",
      "metadata": {
        "id": "2HSqhi8YpbXP",
        "outputId": "6c778487-c34f-498a-b3d7-844587657fab",
        "colab": {
          "base_uri": "https://localhost:8080/",
          "height": 181
        }
      },
      "source": [
        " nltk.download('averaged_perceptron_tagger')\n",
        " text = word_tokenize(\"And now for something completely different\")\n",
        " nltk.pos_tag(text)\n"
      ],
      "execution_count": null,
      "outputs": [
        {
          "output_type": "stream",
          "text": [
            "[nltk_data] Downloading package averaged_perceptron_tagger to\n",
            "[nltk_data]     /root/nltk_data...\n",
            "[nltk_data]   Unzipping taggers/averaged_perceptron_tagger.zip.\n"
          ],
          "name": "stdout"
        },
        {
          "output_type": "execute_result",
          "data": {
            "text/plain": [
              "[('And', 'CC'),\n",
              " ('now', 'RB'),\n",
              " ('for', 'IN'),\n",
              " ('something', 'NN'),\n",
              " ('completely', 'RB'),\n",
              " ('different', 'JJ')]"
            ]
          },
          "metadata": {
            "tags": []
          },
          "execution_count": 15
        }
      ]
    },
    {
      "cell_type": "code",
      "metadata": {
        "id": "l7quXBaZHSq8",
        "outputId": "0d430ffb-b1dc-49f0-eb29-166a6fb1f41e",
        "colab": {
          "base_uri": "https://localhost:8080/",
          "height": 72
        }
      },
      "source": [
        "import nltk\n",
        "nltk.download('punkt')\n",
        "from nltk.tokenize import word_tokenize\n",
        "text = word_tokenize(\"And now for something completely different\")\n",
        "print(text)"
      ],
      "execution_count": null,
      "outputs": [
        {
          "output_type": "stream",
          "text": [
            "[nltk_data] Downloading package punkt to /root/nltk_data...\n",
            "[nltk_data]   Unzipping tokenizers/punkt.zip.\n",
            "['And', 'now', 'for', 'something', 'completely', 'different']\n"
          ],
          "name": "stdout"
        }
      ]
    },
    {
      "cell_type": "code",
      "metadata": {
        "id": "iYHWiDDtUI2j"
      },
      "source": [
        ""
      ],
      "execution_count": null,
      "outputs": []
    },
    {
      "cell_type": "code",
      "metadata": {
        "id": "B3qsC5WOUKHO",
        "outputId": "bfe2f794-f60d-460f-c199-f6b81cb84729",
        "colab": {
          "base_uri": "https://localhost:8080/",
          "height": 126
        }
      },
      "source": [
        " import nltk\n",
        " from nltk.tokenize import word_tokenize\n",
        " nltk.download('punkt')\n",
        " nltk.download('averaged_perceptron_tagger')\n",
        " text = word_tokenize(\" Teaching is fun\")\n",
        " nltk.pos_tag(text)"
      ],
      "execution_count": null,
      "outputs": [
        {
          "output_type": "stream",
          "text": [
            "[nltk_data] Downloading package punkt to /root/nltk_data...\n",
            "[nltk_data]   Unzipping tokenizers/punkt.zip.\n",
            "[nltk_data] Downloading package averaged_perceptron_tagger to\n",
            "[nltk_data]     /root/nltk_data...\n",
            "[nltk_data]   Unzipping taggers/averaged_perceptron_tagger.zip.\n"
          ],
          "name": "stdout"
        },
        {
          "output_type": "execute_result",
          "data": {
            "text/plain": [
              "[('Teaching', 'NN'), ('is', 'VBZ'), ('fun', 'JJ')]"
            ]
          },
          "metadata": {
            "tags": []
          },
          "execution_count": 1
        }
      ]
    },
    {
      "cell_type": "code",
      "metadata": {
        "id": "mlj5OMzngyVI",
        "outputId": "8f9e2541-b0a0-40a5-8052-da010e91db15",
        "colab": {
          "base_uri": "https://localhost:8080/",
          "height": 74
        }
      },
      "source": [
        "# Python code to \n",
        "# demonstrate readlines() \n",
        "\n",
        "#L = [\"Statistics\", \"Machine Learning\", \"SRM\"]\n",
        "Text=\"Singing is the act of producing musical sounds with the voice and augments regular speech by the use of sustained tonality, rhythm, and a variety of vocal techniques. A person who sings is called a singer or vocalist (in jazz and popular music).[1][2] Singers perform music (arias, recitatives, songs, etc.) that can be sung with or without accompaniment by musical instruments. Singing is often done in an ensemble of musicians, such as a choir of singers or a band of instrumentalists. Singers may perform as soloists or accompanied by anything from a single instrument (as in art song or some jazz styles) up to a symphony orchestra or big band. Different singing styles include art music such as opera and Chinese opera, Indian music and religious music styles such as gospel, traditional music styles, world music, jazz, blues, ghazal and popular music styles such as pop, rock and electronic dance music.\" \n",
        "\n",
        "#writing to file \n",
        "file1 = open('/content/myfile.txt', 'w') \n",
        "file1.writelines(Text) \n",
        "file1.close() \n",
        "\n",
        "# Using readlines() \n",
        "file1 = open('/content/myfile.txt', 'r') \n",
        "Lines = file1.readlines() \n",
        "\n",
        "#count = 0\n",
        "# Strips the newline character \n",
        "for line in Lines: \n",
        "\tprint(line+\"\\n\") "
      ],
      "execution_count": null,
      "outputs": [
        {
          "output_type": "stream",
          "text": [
            "Singing is the act of producing musical sounds with the voice and augments regular speech by the use of sustained tonality, rhythm, and a variety of vocal techniques. A person who sings is called a singer or vocalist (in jazz and popular music).[1][2] Singers perform music (arias, recitatives, songs, etc.) that can be sung with or without accompaniment by musical instruments. Singing is often done in an ensemble of musicians, such as a choir of singers or a band of instrumentalists. Singers may perform as soloists or accompanied by anything from a single instrument (as in art song or some jazz styles) up to a symphony orchestra or big band. Different singing styles include art music such as opera and Chinese opera, Indian music and religious music styles such as gospel, traditional music styles, world music, jazz, blues, ghazal and popular music styles such as pop, rock and electronic dance music.\n",
            "\n"
          ],
          "name": "stdout"
        }
      ]
    },
    {
      "cell_type": "code",
      "metadata": {
        "id": "dUdAcF2_DanN",
        "outputId": "df12ab78-ce9d-4b43-b2f2-8d034f3e97c0",
        "colab": {
          "base_uri": "https://localhost:8080/",
          "height": 74
        }
      },
      "source": [
        "# Python code to \n",
        "# demonstrate readlines() \n",
        "\n",
        "#L = [\"Geeks\\n\", \"for\\n\", \"Geeks\\n\"]\n",
        "Text=\"Singing is the act of producing musical sounds with the voice and augments regular speech by the use of sustained tonality, rhythm, and a variety of vocal techniques. A person who sings is called a singer or vocalist (in jazz and popular music).[1][2] Singers perform music (arias, recitatives, songs, etc.) that can be sung with or without accompaniment by musical instruments. Singing is often done in an ensemble of musicians, such as a choir of singers or a band of instrumentalists. Singers may perform as soloists or accompanied by anything from a single instrument (as in art song or some jazz styles) up to a symphony orchestra or big band. Different singing styles include art music such as opera and Chinese opera, Indian music and religious music styles such as gospel, traditional music styles, world music, jazz, blues, ghazal and popular music styles such as pop, rock and electronic dance music.\" \n",
        "\n",
        "#writing to file \n",
        "file1 = open('/content/myfile.txt', 'w') \n",
        "file1.writelines(Text) \n",
        "file1.close() \n",
        "\n",
        "# Using readlines() \n",
        "file1 = open('/content/myfile.txt', 'r') \n",
        "Lines = file1.readlines() \n",
        "\n",
        "\n",
        "# Strips the newline character \n",
        "for line in Lines: \n",
        "\tprint(line+\"\\n\") \n"
      ],
      "execution_count": null,
      "outputs": [
        {
          "output_type": "stream",
          "text": [
            "Singing is the act of producing musical sounds with the voice and augments regular speech by the use of sustained tonality, rhythm, and a variety of vocal techniques. A person who sings is called a singer or vocalist (in jazz and popular music).[1][2] Singers perform music (arias, recitatives, songs, etc.) that can be sung with or without accompaniment by musical instruments. Singing is often done in an ensemble of musicians, such as a choir of singers or a band of instrumentalists. Singers may perform as soloists or accompanied by anything from a single instrument (as in art song or some jazz styles) up to a symphony orchestra or big band. Different singing styles include art music such as opera and Chinese opera, Indian music and religious music styles such as gospel, traditional music styles, world music, jazz, blues, ghazal and popular music styles such as pop, rock and electronic dance music.\n",
            "\n"
          ],
          "name": "stdout"
        }
      ]
    },
    {
      "cell_type": "code",
      "metadata": {
        "id": "8tIWo-W-FCZ5",
        "outputId": "3c9ff78f-5dde-4d38-c060-820d8db22846",
        "colab": {
          "base_uri": "https://localhost:8080/",
          "height": 1000
        }
      },
      "source": [
        "import nltk\n",
        "# importing modules \n",
        "from nltk.stem import PorterStemmer \n",
        "from nltk.tokenize import word_tokenize \n",
        "nltk.download('punkt')\n",
        "\n",
        "ps = PorterStemmer() \n",
        "\n",
        "#sentence = \"Programers program with programing languages\"\n",
        "for line in Lines: \n",
        "  words = word_tokenize(line) \n",
        "  print(words)\n",
        "\n",
        "for w in words: \n",
        "\tprint(w, \" : \", ps.stem(w))"
      ],
      "execution_count": null,
      "outputs": [
        {
          "output_type": "stream",
          "text": [
            "[nltk_data] Downloading package punkt to /root/nltk_data...\n",
            "[nltk_data]   Package punkt is already up-to-date!\n",
            "['Singing', 'is', 'the', 'act', 'of', 'producing', 'musical', 'sounds', 'with', 'the', 'voice', 'and', 'augments', 'regular', 'speech', 'by', 'the', 'use', 'of', 'sustained', 'tonality', ',', 'rhythm', ',', 'and', 'a', 'variety', 'of', 'vocal', 'techniques', '.', 'A', 'person', 'who', 'sings', 'is', 'called', 'a', 'singer', 'or', 'vocalist', '(', 'in', 'jazz', 'and', 'popular', 'music', ')', '.', '[', '1', ']', '[', '2', ']', 'Singers', 'perform', 'music', '(', 'arias', ',', 'recitatives', ',', 'songs', ',', 'etc', '.', ')', 'that', 'can', 'be', 'sung', 'with', 'or', 'without', 'accompaniment', 'by', 'musical', 'instruments', '.', 'Singing', 'is', 'often', 'done', 'in', 'an', 'ensemble', 'of', 'musicians', ',', 'such', 'as', 'a', 'choir', 'of', 'singers', 'or', 'a', 'band', 'of', 'instrumentalists', '.', 'Singers', 'may', 'perform', 'as', 'soloists', 'or', 'accompanied', 'by', 'anything', 'from', 'a', 'single', 'instrument', '(', 'as', 'in', 'art', 'song', 'or', 'some', 'jazz', 'styles', ')', 'up', 'to', 'a', 'symphony', 'orchestra', 'or', 'big', 'band', '.', 'Different', 'singing', 'styles', 'include', 'art', 'music', 'such', 'as', 'opera', 'and', 'Chinese', 'opera', ',', 'Indian', 'music', 'and', 'religious', 'music', 'styles', 'such', 'as', 'gospel', ',', 'traditional', 'music', 'styles', ',', 'world', 'music', ',', 'jazz', ',', 'blues', ',', 'ghazal', 'and', 'popular', 'music', 'styles', 'such', 'as', 'pop', ',', 'rock', 'and', 'electronic', 'dance', 'music', '.']\n",
            "Singing  :  sing\n",
            "is  :  is\n",
            "the  :  the\n",
            "act  :  act\n",
            "of  :  of\n",
            "producing  :  produc\n",
            "musical  :  music\n",
            "sounds  :  sound\n",
            "with  :  with\n",
            "the  :  the\n",
            "voice  :  voic\n",
            "and  :  and\n",
            "augments  :  augment\n",
            "regular  :  regular\n",
            "speech  :  speech\n",
            "by  :  by\n",
            "the  :  the\n",
            "use  :  use\n",
            "of  :  of\n",
            "sustained  :  sustain\n",
            "tonality  :  tonal\n",
            ",  :  ,\n",
            "rhythm  :  rhythm\n",
            ",  :  ,\n",
            "and  :  and\n",
            "a  :  a\n",
            "variety  :  varieti\n",
            "of  :  of\n",
            "vocal  :  vocal\n",
            "techniques  :  techniqu\n",
            ".  :  .\n",
            "A  :  A\n",
            "person  :  person\n",
            "who  :  who\n",
            "sings  :  sing\n",
            "is  :  is\n",
            "called  :  call\n",
            "a  :  a\n",
            "singer  :  singer\n",
            "or  :  or\n",
            "vocalist  :  vocalist\n",
            "(  :  (\n",
            "in  :  in\n",
            "jazz  :  jazz\n",
            "and  :  and\n",
            "popular  :  popular\n",
            "music  :  music\n",
            ")  :  )\n",
            ".  :  .\n",
            "[  :  [\n",
            "1  :  1\n",
            "]  :  ]\n",
            "[  :  [\n",
            "2  :  2\n",
            "]  :  ]\n",
            "Singers  :  singer\n",
            "perform  :  perform\n",
            "music  :  music\n",
            "(  :  (\n",
            "arias  :  aria\n",
            ",  :  ,\n",
            "recitatives  :  recit\n",
            ",  :  ,\n",
            "songs  :  song\n",
            ",  :  ,\n",
            "etc  :  etc\n",
            ".  :  .\n",
            ")  :  )\n",
            "that  :  that\n",
            "can  :  can\n",
            "be  :  be\n",
            "sung  :  sung\n",
            "with  :  with\n",
            "or  :  or\n",
            "without  :  without\n",
            "accompaniment  :  accompani\n",
            "by  :  by\n",
            "musical  :  music\n",
            "instruments  :  instrument\n",
            ".  :  .\n",
            "Singing  :  sing\n",
            "is  :  is\n",
            "often  :  often\n",
            "done  :  done\n",
            "in  :  in\n",
            "an  :  an\n",
            "ensemble  :  ensembl\n",
            "of  :  of\n",
            "musicians  :  musician\n",
            ",  :  ,\n",
            "such  :  such\n",
            "as  :  as\n",
            "a  :  a\n",
            "choir  :  choir\n",
            "of  :  of\n",
            "singers  :  singer\n",
            "or  :  or\n",
            "a  :  a\n",
            "band  :  band\n",
            "of  :  of\n",
            "instrumentalists  :  instrumentalist\n",
            ".  :  .\n",
            "Singers  :  singer\n",
            "may  :  may\n",
            "perform  :  perform\n",
            "as  :  as\n",
            "soloists  :  soloist\n",
            "or  :  or\n",
            "accompanied  :  accompani\n",
            "by  :  by\n",
            "anything  :  anyth\n",
            "from  :  from\n",
            "a  :  a\n",
            "single  :  singl\n",
            "instrument  :  instrument\n",
            "(  :  (\n",
            "as  :  as\n",
            "in  :  in\n",
            "art  :  art\n",
            "song  :  song\n",
            "or  :  or\n",
            "some  :  some\n",
            "jazz  :  jazz\n",
            "styles  :  style\n",
            ")  :  )\n",
            "up  :  up\n",
            "to  :  to\n",
            "a  :  a\n",
            "symphony  :  symphoni\n",
            "orchestra  :  orchestra\n",
            "or  :  or\n",
            "big  :  big\n",
            "band  :  band\n",
            ".  :  .\n",
            "Different  :  differ\n",
            "singing  :  sing\n",
            "styles  :  style\n",
            "include  :  includ\n",
            "art  :  art\n",
            "music  :  music\n",
            "such  :  such\n",
            "as  :  as\n",
            "opera  :  opera\n",
            "and  :  and\n",
            "Chinese  :  chines\n",
            "opera  :  opera\n",
            ",  :  ,\n",
            "Indian  :  indian\n",
            "music  :  music\n",
            "and  :  and\n",
            "religious  :  religi\n",
            "music  :  music\n",
            "styles  :  style\n",
            "such  :  such\n",
            "as  :  as\n",
            "gospel  :  gospel\n",
            ",  :  ,\n",
            "traditional  :  tradit\n",
            "music  :  music\n",
            "styles  :  style\n",
            ",  :  ,\n",
            "world  :  world\n",
            "music  :  music\n",
            ",  :  ,\n",
            "jazz  :  jazz\n",
            ",  :  ,\n",
            "blues  :  blue\n",
            ",  :  ,\n",
            "ghazal  :  ghazal\n",
            "and  :  and\n",
            "popular  :  popular\n",
            "music  :  music\n",
            "styles  :  style\n",
            "such  :  such\n",
            "as  :  as\n",
            "pop  :  pop\n",
            ",  :  ,\n",
            "rock  :  rock\n",
            "and  :  and\n",
            "electronic  :  electron\n",
            "dance  :  danc\n",
            "music  :  music\n",
            ".  :  .\n"
          ],
          "name": "stdout"
        }
      ]
    }
  ]
}